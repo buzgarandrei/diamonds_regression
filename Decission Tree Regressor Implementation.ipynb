{
 "cells": [
  {
   "cell_type": "code",
   "execution_count": 26,
   "metadata": {},
   "outputs": [],
   "source": [
    "import numpy as np\n",
    "import pandas as pd\n",
    "import matplotlib as mpl\n",
    "diamonds = pd.read_csv('diamonds.csv')\n"
   ]
  },
  {
   "cell_type": "code",
   "execution_count": 27,
   "metadata": {},
   "outputs": [],
   "source": [
    "def outliers(var):\n",
    "    a = []\n",
    "    q1 = diamonds[var].quantile(.25)\n",
    "    q2 = diamonds[var].quantile(.5)\n",
    "    q3 = diamonds[var].quantile(.75)\n",
    "    iqr = q3-q1\n",
    "    ulim = float(q3+(1.5*iqr))\n",
    "    llim = float(q1-(1.5*iqr))\n",
    "\n",
    "    for i in diamonds[var]:\n",
    "        if i > ulim:\n",
    "            i = np.NaN\n",
    "        elif i < llim:\n",
    "            i = np.NaN\n",
    "        else:\n",
    "            i=i\n",
    "        a.append(i)\n",
    "    return a\n",
    "\n",
    "for col in diamonds.select_dtypes(exclude='object').columns:\n",
    "    diamonds[col] = outliers(col)"
   ]
  },
  {
   "cell_type": "code",
   "execution_count": 28,
   "metadata": {},
   "outputs": [],
   "source": [
    "for i in diamonds.select_dtypes(exclude='object').columns:\n",
    "    diamonds[i] = diamonds[i].fillna(diamonds[i].mean())"
   ]
  },
  {
   "cell_type": "code",
   "execution_count": 29,
   "metadata": {},
   "outputs": [
    {
     "data": {
      "text/html": [
       "<div>\n",
       "<style scoped>\n",
       "    .dataframe tbody tr th:only-of-type {\n",
       "        vertical-align: middle;\n",
       "    }\n",
       "\n",
       "    .dataframe tbody tr th {\n",
       "        vertical-align: top;\n",
       "    }\n",
       "\n",
       "    .dataframe thead th {\n",
       "        text-align: right;\n",
       "    }\n",
       "</style>\n",
       "<table border=\"1\" class=\"dataframe\">\n",
       "  <thead>\n",
       "    <tr style=\"text-align: right;\">\n",
       "      <th></th>\n",
       "      <th>id</th>\n",
       "      <th>carat</th>\n",
       "      <th>cut</th>\n",
       "      <th>color</th>\n",
       "      <th>clarity</th>\n",
       "      <th>depth</th>\n",
       "      <th>table</th>\n",
       "      <th>price</th>\n",
       "      <th>x</th>\n",
       "      <th>y</th>\n",
       "      <th>z</th>\n",
       "      <th>volume</th>\n",
       "    </tr>\n",
       "  </thead>\n",
       "  <tbody>\n",
       "    <tr>\n",
       "      <th>0</th>\n",
       "      <td>1</td>\n",
       "      <td>0.23</td>\n",
       "      <td>Ideal</td>\n",
       "      <td>E</td>\n",
       "      <td>SI2</td>\n",
       "      <td>61.500000</td>\n",
       "      <td>55.000000</td>\n",
       "      <td>326.0</td>\n",
       "      <td>3.95</td>\n",
       "      <td>3.98</td>\n",
       "      <td>2.43</td>\n",
       "      <td>38.202030</td>\n",
       "    </tr>\n",
       "    <tr>\n",
       "      <th>1</th>\n",
       "      <td>2</td>\n",
       "      <td>0.21</td>\n",
       "      <td>Premium</td>\n",
       "      <td>E</td>\n",
       "      <td>SI1</td>\n",
       "      <td>59.800000</td>\n",
       "      <td>61.000000</td>\n",
       "      <td>326.0</td>\n",
       "      <td>3.89</td>\n",
       "      <td>3.84</td>\n",
       "      <td>2.31</td>\n",
       "      <td>34.505856</td>\n",
       "    </tr>\n",
       "    <tr>\n",
       "      <th>2</th>\n",
       "      <td>3</td>\n",
       "      <td>0.23</td>\n",
       "      <td>Good</td>\n",
       "      <td>E</td>\n",
       "      <td>VS1</td>\n",
       "      <td>61.776373</td>\n",
       "      <td>57.373404</td>\n",
       "      <td>327.0</td>\n",
       "      <td>4.05</td>\n",
       "      <td>4.07</td>\n",
       "      <td>2.31</td>\n",
       "      <td>38.076885</td>\n",
       "    </tr>\n",
       "    <tr>\n",
       "      <th>3</th>\n",
       "      <td>4</td>\n",
       "      <td>0.29</td>\n",
       "      <td>Premium</td>\n",
       "      <td>I</td>\n",
       "      <td>VS2</td>\n",
       "      <td>62.400000</td>\n",
       "      <td>58.000000</td>\n",
       "      <td>334.0</td>\n",
       "      <td>4.20</td>\n",
       "      <td>4.23</td>\n",
       "      <td>2.63</td>\n",
       "      <td>46.724580</td>\n",
       "    </tr>\n",
       "    <tr>\n",
       "      <th>4</th>\n",
       "      <td>5</td>\n",
       "      <td>0.31</td>\n",
       "      <td>Good</td>\n",
       "      <td>J</td>\n",
       "      <td>SI2</td>\n",
       "      <td>63.300000</td>\n",
       "      <td>58.000000</td>\n",
       "      <td>335.0</td>\n",
       "      <td>4.34</td>\n",
       "      <td>4.35</td>\n",
       "      <td>2.75</td>\n",
       "      <td>51.917250</td>\n",
       "    </tr>\n",
       "  </tbody>\n",
       "</table>\n",
       "</div>"
      ],
      "text/plain": [
       "   id  carat      cut color clarity      depth      table  price     x     y  \\\n",
       "0   1   0.23    Ideal     E     SI2  61.500000  55.000000  326.0  3.95  3.98   \n",
       "1   2   0.21  Premium     E     SI1  59.800000  61.000000  326.0  3.89  3.84   \n",
       "2   3   0.23     Good     E     VS1  61.776373  57.373404  327.0  4.05  4.07   \n",
       "3   4   0.29  Premium     I     VS2  62.400000  58.000000  334.0  4.20  4.23   \n",
       "4   5   0.31     Good     J     SI2  63.300000  58.000000  335.0  4.34  4.35   \n",
       "\n",
       "      z     volume  \n",
       "0  2.43  38.202030  \n",
       "1  2.31  34.505856  \n",
       "2  2.31  38.076885  \n",
       "3  2.63  46.724580  \n",
       "4  2.75  51.917250  "
      ]
     },
     "execution_count": 29,
     "metadata": {},
     "output_type": "execute_result"
    }
   ],
   "source": [
    "diamonds['volume'] = diamonds['x']*diamonds['y']*diamonds['z']\n",
    "diamonds.head()"
   ]
  },
  {
   "cell_type": "code",
   "execution_count": 30,
   "metadata": {},
   "outputs": [
    {
     "data": {
      "text/html": [
       "<div>\n",
       "<style scoped>\n",
       "    .dataframe tbody tr th:only-of-type {\n",
       "        vertical-align: middle;\n",
       "    }\n",
       "\n",
       "    .dataframe tbody tr th {\n",
       "        vertical-align: top;\n",
       "    }\n",
       "\n",
       "    .dataframe thead th {\n",
       "        text-align: right;\n",
       "    }\n",
       "</style>\n",
       "<table border=\"1\" class=\"dataframe\">\n",
       "  <thead>\n",
       "    <tr style=\"text-align: right;\">\n",
       "      <th></th>\n",
       "      <th>id</th>\n",
       "      <th>carat</th>\n",
       "      <th>cut</th>\n",
       "      <th>color</th>\n",
       "      <th>clarity</th>\n",
       "      <th>depth</th>\n",
       "      <th>table</th>\n",
       "      <th>price</th>\n",
       "      <th>x</th>\n",
       "      <th>y</th>\n",
       "      <th>z</th>\n",
       "      <th>volume</th>\n",
       "    </tr>\n",
       "  </thead>\n",
       "  <tbody>\n",
       "    <tr>\n",
       "      <th>0</th>\n",
       "      <td>1</td>\n",
       "      <td>0.23</td>\n",
       "      <td>2</td>\n",
       "      <td>1</td>\n",
       "      <td>3</td>\n",
       "      <td>61.500000</td>\n",
       "      <td>55.000000</td>\n",
       "      <td>326.0</td>\n",
       "      <td>3.95</td>\n",
       "      <td>3.98</td>\n",
       "      <td>2.43</td>\n",
       "      <td>38.202030</td>\n",
       "    </tr>\n",
       "    <tr>\n",
       "      <th>1</th>\n",
       "      <td>2</td>\n",
       "      <td>0.21</td>\n",
       "      <td>3</td>\n",
       "      <td>1</td>\n",
       "      <td>2</td>\n",
       "      <td>59.800000</td>\n",
       "      <td>61.000000</td>\n",
       "      <td>326.0</td>\n",
       "      <td>3.89</td>\n",
       "      <td>3.84</td>\n",
       "      <td>2.31</td>\n",
       "      <td>34.505856</td>\n",
       "    </tr>\n",
       "    <tr>\n",
       "      <th>2</th>\n",
       "      <td>3</td>\n",
       "      <td>0.23</td>\n",
       "      <td>1</td>\n",
       "      <td>1</td>\n",
       "      <td>4</td>\n",
       "      <td>61.776373</td>\n",
       "      <td>57.373404</td>\n",
       "      <td>327.0</td>\n",
       "      <td>4.05</td>\n",
       "      <td>4.07</td>\n",
       "      <td>2.31</td>\n",
       "      <td>38.076885</td>\n",
       "    </tr>\n",
       "    <tr>\n",
       "      <th>3</th>\n",
       "      <td>4</td>\n",
       "      <td>0.29</td>\n",
       "      <td>3</td>\n",
       "      <td>5</td>\n",
       "      <td>5</td>\n",
       "      <td>62.400000</td>\n",
       "      <td>58.000000</td>\n",
       "      <td>334.0</td>\n",
       "      <td>4.20</td>\n",
       "      <td>4.23</td>\n",
       "      <td>2.63</td>\n",
       "      <td>46.724580</td>\n",
       "    </tr>\n",
       "    <tr>\n",
       "      <th>4</th>\n",
       "      <td>5</td>\n",
       "      <td>0.31</td>\n",
       "      <td>1</td>\n",
       "      <td>6</td>\n",
       "      <td>3</td>\n",
       "      <td>63.300000</td>\n",
       "      <td>58.000000</td>\n",
       "      <td>335.0</td>\n",
       "      <td>4.34</td>\n",
       "      <td>4.35</td>\n",
       "      <td>2.75</td>\n",
       "      <td>51.917250</td>\n",
       "    </tr>\n",
       "  </tbody>\n",
       "</table>\n",
       "</div>"
      ],
      "text/plain": [
       "   id  carat  cut  color  clarity      depth      table  price     x     y  \\\n",
       "0   1   0.23    2      1        3  61.500000  55.000000  326.0  3.95  3.98   \n",
       "1   2   0.21    3      1        2  59.800000  61.000000  326.0  3.89  3.84   \n",
       "2   3   0.23    1      1        4  61.776373  57.373404  327.0  4.05  4.07   \n",
       "3   4   0.29    3      5        5  62.400000  58.000000  334.0  4.20  4.23   \n",
       "4   5   0.31    1      6        3  63.300000  58.000000  335.0  4.34  4.35   \n",
       "\n",
       "      z     volume  \n",
       "0  2.43  38.202030  \n",
       "1  2.31  34.505856  \n",
       "2  2.31  38.076885  \n",
       "3  2.63  46.724580  \n",
       "4  2.75  51.917250  "
      ]
     },
     "execution_count": 30,
     "metadata": {},
     "output_type": "execute_result"
    }
   ],
   "source": [
    "from sklearn import preprocessing \n",
    "label_encoder = preprocessing.LabelEncoder() \n",
    "\n",
    "diamonds['cut'] = label_encoder.fit_transform(diamonds['cut'])\n",
    "diamonds['color'] = label_encoder.fit_transform(diamonds['color'])\n",
    "diamonds['clarity'] = label_encoder.fit_transform(diamonds['clarity'])\n",
    "diamonds.head()"
   ]
  },
  {
   "cell_type": "code",
   "execution_count": 31,
   "metadata": {},
   "outputs": [
    {
     "name": "stdout",
     "output_type": "stream",
     "text": [
      "carat      float64\n",
      "cut          int32\n",
      "color        int32\n",
      "clarity      int32\n",
      "depth      float64\n",
      "table      float64\n",
      "x          float64\n",
      "y          float64\n",
      "z          float64\n",
      "volume     float64\n",
      "dtype: object\n"
     ]
    }
   ],
   "source": [
    "df1 = pd.DataFrame(diamonds,columns= ['carat', 'cut', 'color', 'clarity', 'depth', 'table', 'x', 'y', 'z', 'volume'])\n",
    "\n",
    "X = df1\n",
    "print(df1.dtypes)\n",
    "y = diamonds['price']"
   ]
  },
  {
   "cell_type": "code",
   "execution_count": 32,
   "metadata": {},
   "outputs": [],
   "source": [
    "class Node:\n",
    "\n",
    "    def __init__(self, x, y, idxs, min_leaf=5):\n",
    "        self.x = x \n",
    "        self.y = y\n",
    "        self.idxs = idxs \n",
    "        self.min_leaf = min_leaf\n",
    "        self.row_count = len(idxs)\n",
    "        self.col_count = x.shape[1]\n",
    "        self.val = np.mean(y[idxs])\n",
    "        self.score = float('inf')\n",
    "        self.find_varsplit()\n",
    "        \n",
    "    def find_varsplit(self):\n",
    "        for c in range(self.col_count): self.find_better_split(c)\n",
    "        if self.is_leaf: return\n",
    "        x = self.split_col\n",
    "        lhs = np.nonzero(x <= self.split)[0]\n",
    "        rhs = np.nonzero(x > self.split)[0]\n",
    "        self.lhs = Node(self.x, self.y, self.idxs[lhs], self.min_leaf)\n",
    "        self.rhs = Node(self.x, self.y, self.idxs[rhs], self.min_leaf)\n",
    "        \n",
    "    def find_better_split(self, var_idx):\n",
    "      \n",
    "        x = self.x.values[self.idxs, var_idx]\n",
    "        for r in range(self.row_count):\n",
    "            lhs = x <= x[r]\n",
    "            rhs = x > x[r]\n",
    "            if rhs.sum() < self.min_leaf or lhs.sum() < self.min_leaf: continue\n",
    "\n",
    "            curr_score = self.find_score(lhs, rhs)\n",
    "            if curr_score < self.score: \n",
    "                self.var_idx = var_idx\n",
    "                self.score = curr_score\n",
    "                self.split = x[r]\n",
    "                \n",
    "    def find_score(self, lhs, rhs):\n",
    "        y = self.y[self.idxs]\n",
    "        lhs_std = y[lhs].std()\n",
    "        rhs_std = y[rhs].std()\n",
    "        return lhs_std * lhs.sum() + rhs_std * rhs.sum()\n",
    "                \n",
    "   \n",
    "    def split_col(self): return self.x.values[self.idxs,self.var_idx]\n",
    "                \n",
    "    \n",
    "    def is_leaf(self): return self.score == float('inf')                \n",
    "\n",
    "    def predict(self, x):\n",
    "        return np.array([self.predict_row(xi) for xi in x])\n",
    "\n",
    "    def predict_row(self, xi):\n",
    "        if self.is_leaf: return self.val\n",
    "        node = self.lhs if xi[self.var_idx] <= self.split else self.rhs\n",
    "        return node.predict_row(xi)\n"
   ]
  },
  {
   "cell_type": "code",
   "execution_count": 33,
   "metadata": {},
   "outputs": [],
   "source": [
    "class DecisionTreeRegressor:\n",
    "  \n",
    "  def fit(self, X, y, min_leaf = 5):\n",
    "    self.dtree = Node(X, y, np.array(np.arange(len(y))), min_leaf)\n",
    "    return self\n",
    "  \n",
    "  def predict(self, X):\n",
    "    return self.dtree.predict(X.values)\n",
    "    "
   ]
  },
  {
   "cell_type": "code",
   "execution_count": 34,
   "metadata": {},
   "outputs": [],
   "source": [
    "regressor = DecisionTreeRegressor().fit(X, y)\n",
    "preds = regressor.predict(X)\n"
   ]
  },
  {
   "cell_type": "code",
   "execution_count": 35,
   "metadata": {},
   "outputs": [],
   "source": [
    "from sklearn.metrics import mean_squared_error\n",
    "from math import sqrt\n",
    "\n",
    "def rmse(h, y):\n",
    "  return sqrt(mean_squared_error(h, y))"
   ]
  },
  {
   "cell_type": "code",
   "execution_count": 36,
   "metadata": {},
   "outputs": [
    {
     "data": {
      "text/plain": [
       "0.9555492557388178"
      ]
     },
     "execution_count": 36,
     "metadata": {},
     "output_type": "execute_result"
    }
   ],
   "source": [
    "import sklearn.metrics as metrics\n",
    "metrics.r2_score(y, preds)"
   ]
  },
  {
   "cell_type": "code",
   "execution_count": 37,
   "metadata": {},
   "outputs": [
    {
     "data": {
      "text/plain": [
       "563.4340242956168"
      ]
     },
     "execution_count": 37,
     "metadata": {},
     "output_type": "execute_result"
    }
   ],
   "source": [
    "\n",
    "rmse(preds, y)"
   ]
  },
  {
   "cell_type": "code",
   "execution_count": 40,
   "metadata": {},
   "outputs": [
    {
     "name": "stdout",
     "output_type": "stream",
     "text": [
      "[4270.]\n"
     ]
    }
   ],
   "source": [
    "dict = {'carat': [diamonds.carat[6506]], 'cut': [diamonds.cut[6506]], 'color': [diamonds.color[6506]], \n",
    "        'clarity': [diamonds.clarity[6506]], 'depth': [diamonds.depth[6506]], 'table': [diamonds.table[6506]], \n",
    "        'x': [diamonds.x[6506]], 'y': [diamonds.y[6506]], 'z': [diamonds.z[6506]], 'volume': [diamonds.volume[6506]]}\n",
    "sample = pd.DataFrame(dict, columns= ['carat', 'cut', 'color', 'clarity', 'depth', 'table', 'x', 'y', 'z', 'volume'])\n",
    "prediction = regressor.predict(sample) #4064\n",
    "print(prediction)"
   ]
  },
  {
   "cell_type": "code",
   "execution_count": 41,
   "metadata": {},
   "outputs": [
    {
     "name": "stdout",
     "output_type": "stream",
     "text": [
      "[1293.25]\n"
     ]
    }
   ],
   "source": [
    "dict2 = {'carat': [diamonds.carat[41715]], 'cut': [diamonds.cut[41715]], 'color': [diamonds.color[41715]], \n",
    "        'clarity': [diamonds.clarity[41715]], 'depth': [diamonds.depth[41715]], 'table': [diamonds.table[41715]], \n",
    "        'x': [diamonds.x[41715]], 'y': [diamonds.y[41715]], 'z': [diamonds.z[41715]], 'volume': [diamonds.volume[41715]]}\n",
    "sample = pd.DataFrame(dict2, columns= ['carat', 'cut', 'color', 'clarity', 'depth', 'table', 'x', 'y', 'z', 'volume'])\n",
    "prediction = regressor.predict(sample) #1243\n",
    "print(prediction)"
   ]
  },
  {
   "cell_type": "code",
   "execution_count": 44,
   "metadata": {},
   "outputs": [
    {
     "name": "stdout",
     "output_type": "stream",
     "text": [
      "[2561.6]\n"
     ]
    }
   ],
   "source": [
    "dict3 = {'carat': [diamonds.carat[53810]], 'cut': [diamonds.cut[53810]], 'color': [diamonds.color[53810]], \n",
    "        'clarity': [diamonds.clarity[53810]], 'depth': [diamonds.depth[53810]], 'table': [diamonds.table[53810]], \n",
    "        'x': [diamonds.x[53810]], 'y': [diamonds.y[53810]], 'z': [diamonds.z[53810]], 'volume': [diamonds.volume[53810]]}\n",
    "sample = pd.DataFrame(dict3, columns= ['carat', 'cut', 'color', 'clarity', 'depth', 'table', 'x', 'y', 'z', 'volume'])\n",
    "prediction = regressor.predict(sample) #2733\n",
    "print(prediction)"
   ]
  },
  {
   "cell_type": "code",
   "execution_count": 47,
   "metadata": {},
   "outputs": [
    {
     "name": "stdout",
     "output_type": "stream",
     "text": [
      "[355.66666667]\n"
     ]
    }
   ],
   "source": [
    "dict4 = {'carat': [diamonds.carat[10]], 'cut': [diamonds.cut[10]], 'color': [diamonds.color[10]], \n",
    "        'clarity': [diamonds.clarity[10]], 'depth': [diamonds.depth[10]], 'table': [diamonds.table[10]], \n",
    "        'x': [diamonds.x[10]], 'y': [diamonds.y[10]], 'z': [diamonds.z[10]], 'volume': [diamonds.volume[10]]}\n",
    "sample = pd.DataFrame(dict4, columns= ['carat', 'cut', 'color', 'clarity', 'depth', 'table', 'x', 'y', 'z', 'volume'])\n",
    "prediction = regressor.predict(sample) #338\n",
    "print(prediction)"
   ]
  },
  {
   "cell_type": "code",
   "execution_count": 52,
   "metadata": {},
   "outputs": [
    {
     "name": "stdout",
     "output_type": "stream",
     "text": [
      "[3262.42857143]\n"
     ]
    }
   ],
   "source": [
    "dict5 = {'carat': [diamonds.carat[2000]], 'cut': [diamonds.cut[2000]], 'color': [diamonds.color[2000]], \n",
    "        'clarity': [diamonds.clarity[2000]], 'depth': [diamonds.depth[2000]], 'table': [diamonds.table[2000]], \n",
    "        'x': [diamonds.x[2000]], 'y': [diamonds.y[2000]], 'z': [diamonds.z[2000]], 'volume': [diamonds.volume[2000]]}\n",
    "sample = pd.DataFrame(dict5, columns= ['carat', 'cut', 'color', 'clarity', 'depth', 'table', 'x', 'y', 'z', 'volume'])\n",
    "prediction = regressor.predict(sample) #3099\n",
    "print(prediction)"
   ]
  },
  {
   "cell_type": "code",
   "execution_count": 53,
   "metadata": {},
   "outputs": [
    {
     "name": "stdout",
     "output_type": "stream",
     "text": [
      "[3725.66666667]\n"
     ]
    }
   ],
   "source": [
    "dict6 = {'carat': [diamonds.carat[5000]], 'cut': [diamonds.cut[5000]], 'color': [diamonds.color[5000]], \n",
    "        'clarity': [diamonds.clarity[5000]], 'depth': [diamonds.depth[5000]], 'table': [diamonds.table[5000]], \n",
    "        'x': [diamonds.x[5000]], 'y': [diamonds.y[5000]], 'z': [diamonds.z[5000]], 'volume': [diamonds.volume[5000]]}\n",
    "sample = pd.DataFrame(dict6, columns= ['carat', 'cut', 'color', 'clarity', 'depth', 'table', 'x', 'y', 'z', 'volume'])\n",
    "prediction = regressor.predict(sample) #3742\n",
    "print(prediction)"
   ]
  },
  {
   "cell_type": "code",
   "execution_count": 54,
   "metadata": {},
   "outputs": [
    {
     "name": "stdout",
     "output_type": "stream",
     "text": [
      "[4285.16666667]\n"
     ]
    }
   ],
   "source": [
    "dict7 = {'carat': [diamonds.carat[7000]], 'cut': [diamonds.cut[7000]], 'color': [diamonds.color[7000]], \n",
    "        'clarity': [diamonds.clarity[7000]], 'depth': [diamonds.depth[7000]], 'table': [diamonds.table[7000]], \n",
    "        'x': [diamonds.x[7000]], 'y': [diamonds.y[7000]], 'z': [diamonds.z[7000]], 'volume': [diamonds.volume[7000]]}\n",
    "sample = pd.DataFrame(dict7, columns= ['carat', 'cut', 'color', 'clarity', 'depth', 'table', 'x', 'y', 'z', 'volume'])\n",
    "prediction = regressor.predict(sample) #4155\n",
    "print(prediction)"
   ]
  },
  {
   "cell_type": "code",
   "execution_count": 55,
   "metadata": {},
   "outputs": [
    {
     "name": "stdout",
     "output_type": "stream",
     "text": [
      "[4914.4]\n"
     ]
    }
   ],
   "source": [
    "dict8 = {'carat': [diamonds.carat[10886]], 'cut': [diamonds.cut[10886]], 'color': [diamonds.color[10886]], \n",
    "        'clarity': [diamonds.clarity[10886]], 'depth': [diamonds.depth[10886]], 'table': [diamonds.table[10886]], \n",
    "        'x': [diamonds.x[10886]], 'y': [diamonds.y[10886]], 'z': [diamonds.z[10886]], 'volume': [diamonds.volume[10886]]}\n",
    "sample = pd.DataFrame(dict8, columns= ['carat', 'cut', 'color', 'clarity', 'depth', 'table', 'x', 'y', 'z', 'volume'])\n",
    "prediction = regressor.predict(sample) #4879\n",
    "print(prediction)"
   ]
  }
 ],
 "metadata": {
  "kernelspec": {
   "display_name": "Python 3",
   "language": "python",
   "name": "python3"
  },
  "language_info": {
   "codemirror_mode": {
    "name": "ipython",
    "version": 3
   },
   "file_extension": ".py",
   "mimetype": "text/x-python",
   "name": "python",
   "nbconvert_exporter": "python",
   "pygments_lexer": "ipython3",
   "version": "3.7.6"
  }
 },
 "nbformat": 4,
 "nbformat_minor": 4
}
